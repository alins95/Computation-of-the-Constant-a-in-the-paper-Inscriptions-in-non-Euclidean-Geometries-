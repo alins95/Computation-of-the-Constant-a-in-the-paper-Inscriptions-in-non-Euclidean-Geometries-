{
 "cells": [
  {
   "cell_type": "code",
   "execution_count": 1,
   "id": "7381dc9a-ab2b-4089-b337-f3f3255735ca",
   "metadata": {},
   "outputs": [],
   "source": [
    "import sympy as sp"
   ]
  },
  {
   "cell_type": "code",
   "execution_count": 43,
   "id": "56afd7bb-9eea-45ca-9168-1db0ee3b6f53",
   "metadata": {},
   "outputs": [],
   "source": [
    "p1 = sp.symbols('varphi_1')\n",
    "\n",
    "p2 = sp.symbols('varphi_2')\n",
    "\n",
    "theta = sp.symbols('theta')\n",
    "\n",
    "a = (sp.sin((p2+theta)/2)*sp.sin((p2+theta-p1)/2))/(sp.sin(theta/2)*sp.sin((p1-theta)/2))"
   ]
  },
  {
   "cell_type": "code",
   "execution_count": 45,
   "id": "a567af15-2a9c-4e39-a8f7-499dfaa1192f",
   "metadata": {},
   "outputs": [
    {
     "data": {
      "text/latex": [
       "$\\displaystyle - \\frac{\\sin{\\left(\\frac{\\theta}{2} + \\frac{\\varphi_{2}}{2} \\right)} \\sin{\\left(\\frac{\\theta}{2} - \\frac{\\varphi_{1}}{2} + \\frac{\\varphi_{2}}{2} \\right)}}{\\sin{\\left(\\frac{\\theta}{2} \\right)} \\sin{\\left(\\frac{\\theta}{2} - \\frac{\\varphi_{1}}{2} \\right)}}$"
      ],
      "text/plain": [
       "-sin(theta/2 + varphi_2/2)*sin(theta/2 - varphi_1/2 + varphi_2/2)/(sin(theta/2)*sin(theta/2 - varphi_1/2))"
      ]
     },
     "execution_count": 45,
     "metadata": {},
     "output_type": "execute_result"
    }
   ],
   "source": [
    "a"
   ]
  },
  {
   "cell_type": "code",
   "execution_count": 33,
   "id": "6d2e85fd-33a4-47fe-83e1-349cdb5c7a78",
   "metadata": {},
   "outputs": [],
   "source": [
    "A = sp.Matrix([[1,0,1,0], [0,1,0,1], [1,0, sp.cos(p1), sp.sin(p1)], [0,1,-sp.sin(p1), sp.cos(p1)]])\n",
    "\n",
    "M = sp.Matrix([[1,0,sp.cos(theta),sp.sin(theta)],[0,1,-sp.sin(theta),sp.cos(theta)],[1,0,sp.cos(theta+p2),sp.sin(theta+p2)],[0,1,-sp.sin(theta+p2),sp.cos(theta+p2)]])"
   ]
  },
  {
   "cell_type": "code",
   "execution_count": 31,
   "id": "8c891c38-2633-4796-a5ab-d03aa48b4d04",
   "metadata": {},
   "outputs": [
    {
     "data": {
      "text/latex": [
       "$\\displaystyle \\left[\\begin{matrix}1 & 0 & 1 & 0\\\\0 & 1 & 0 & 1\\\\1 & 0 & \\cos{\\left(\\varphi_{1} \\right)} & \\sin{\\left(\\varphi_{1} \\right)}\\\\0 & 1 & - \\sin{\\left(\\varphi_{1} \\right)} & \\cos{\\left(\\varphi_{1} \\right)}\\end{matrix}\\right]$"
      ],
      "text/plain": [
       "Matrix([\n",
       "[1, 0,              1,             0],\n",
       "[0, 1,              0,             1],\n",
       "[1, 0,  cos(varphi_1), sin(varphi_1)],\n",
       "[0, 1, -sin(varphi_1), cos(varphi_1)]])"
      ]
     },
     "execution_count": 31,
     "metadata": {},
     "output_type": "execute_result"
    }
   ],
   "source": [
    "A"
   ]
  },
  {
   "cell_type": "code",
   "execution_count": 35,
   "id": "96f56eb4-5f59-4f9d-8fba-21fffd25067b",
   "metadata": {},
   "outputs": [
    {
     "data": {
      "text/latex": [
       "$\\displaystyle \\left[\\begin{matrix}1 & 0 & \\cos{\\left(\\theta \\right)} & \\sin{\\left(\\theta \\right)}\\\\0 & 1 & - \\sin{\\left(\\theta \\right)} & \\cos{\\left(\\theta \\right)}\\\\1 & 0 & \\cos{\\left(\\theta + \\varphi_{2} \\right)} & \\sin{\\left(\\theta + \\varphi_{2} \\right)}\\\\0 & 1 & - \\sin{\\left(\\theta + \\varphi_{2} \\right)} & \\cos{\\left(\\theta + \\varphi_{2} \\right)}\\end{matrix}\\right]$"
      ],
      "text/plain": [
       "Matrix([\n",
       "[1, 0,             cos(theta),            sin(theta)],\n",
       "[0, 1,            -sin(theta),            cos(theta)],\n",
       "[1, 0,  cos(theta + varphi_2), sin(theta + varphi_2)],\n",
       "[0, 1, -sin(theta + varphi_2), cos(theta + varphi_2)]])"
      ]
     },
     "execution_count": 35,
     "metadata": {},
     "output_type": "execute_result"
    }
   ],
   "source": [
    "M"
   ]
  },
  {
   "cell_type": "code",
   "execution_count": 49,
   "id": "a75fcc59-4a69-43ec-a2a3-8df9e96f964b",
   "metadata": {},
   "outputs": [],
   "source": [
    "J_a = sp.Matrix([[0,a,0,0],[-a,0,0,0],[0,0,0,1],[0,0,-1,0]])"
   ]
  },
  {
   "cell_type": "code",
   "execution_count": 51,
   "id": "8475e9c6-8c38-4d66-9641-05e8f30ac202",
   "metadata": {},
   "outputs": [
    {
     "data": {
      "text/latex": [
       "$\\displaystyle \\left[\\begin{matrix}0 & - \\frac{\\sin{\\left(\\frac{\\theta}{2} + \\frac{\\varphi_{2}}{2} \\right)} \\sin{\\left(\\frac{\\theta}{2} - \\frac{\\varphi_{1}}{2} + \\frac{\\varphi_{2}}{2} \\right)}}{\\sin{\\left(\\frac{\\theta}{2} \\right)} \\sin{\\left(\\frac{\\theta}{2} - \\frac{\\varphi_{1}}{2} \\right)}} & 0 & 0\\\\\\frac{\\sin{\\left(\\frac{\\theta}{2} + \\frac{\\varphi_{2}}{2} \\right)} \\sin{\\left(\\frac{\\theta}{2} - \\frac{\\varphi_{1}}{2} + \\frac{\\varphi_{2}}{2} \\right)}}{\\sin{\\left(\\frac{\\theta}{2} \\right)} \\sin{\\left(\\frac{\\theta}{2} - \\frac{\\varphi_{1}}{2} \\right)}} & 0 & 0 & 0\\\\0 & 0 & 0 & 1\\\\0 & 0 & -1 & 0\\end{matrix}\\right]$"
      ],
      "text/plain": [
       "Matrix([\n",
       "[                                                                                                        0, -sin(theta/2 + varphi_2/2)*sin(theta/2 - varphi_1/2 + varphi_2/2)/(sin(theta/2)*sin(theta/2 - varphi_1/2)),  0, 0],\n",
       "[sin(theta/2 + varphi_2/2)*sin(theta/2 - varphi_1/2 + varphi_2/2)/(sin(theta/2)*sin(theta/2 - varphi_1/2)),                                                                                                          0,  0, 0],\n",
       "[                                                                                                        0,                                                                                                          0,  0, 1],\n",
       "[                                                                                                        0,                                                                                                          0, -1, 0]])"
      ]
     },
     "execution_count": 51,
     "metadata": {},
     "output_type": "execute_result"
    }
   ],
   "source": [
    "J_a"
   ]
  },
  {
   "cell_type": "code",
   "execution_count": 47,
   "id": "fa65157c-716c-4f3c-8acf-7a6d8bf02da8",
   "metadata": {},
   "outputs": [],
   "source": [
    "N = M*A.inv()"
   ]
  },
  {
   "cell_type": "code",
   "execution_count": 55,
   "id": "8a0ad1fe-79a1-42ce-abc3-e32da4d7faa2",
   "metadata": {},
   "outputs": [],
   "source": [
    "K = N.T*J_a*N\n",
    "\n",
    "K.simplify()"
   ]
  },
  {
   "cell_type": "code",
   "execution_count": 57,
   "id": "18d79b09-826a-41c0-acfd-ebaff3ee4a2c",
   "metadata": {},
   "outputs": [
    {
     "data": {
      "text/latex": [
       "$\\displaystyle \\left[\\begin{matrix}0 & \\frac{\\left(- \\cos{\\left(\\theta \\right)} + 2 \\cos{\\left(\\varphi_{1} \\right)} - \\cos{\\left(\\theta - 2 \\varphi_{1} \\right)} + 2 \\cos{\\left(\\theta - \\varphi_{1} \\right)} - 2\\right) \\sin{\\left(\\frac{\\theta}{2} + \\frac{\\varphi_{2}}{2} \\right)} \\sin{\\left(\\frac{\\theta}{2} - \\frac{\\varphi_{1}}{2} + \\frac{\\varphi_{2}}{2} \\right)} + \\left(- 2 \\cos{\\left(\\varphi_{1} \\right)} + \\cos{\\left(\\theta + \\varphi_{2} \\right)} + \\cos{\\left(\\theta - 2 \\varphi_{1} + \\varphi_{2} \\right)} - 2 \\cos{\\left(\\theta - \\varphi_{1} + \\varphi_{2} \\right)} + 2\\right) \\sin{\\left(\\frac{\\theta}{2} \\right)} \\sin{\\left(\\frac{\\theta}{2} - \\frac{\\varphi_{1}}{2} \\right)}}{2 \\left(1 - \\cos{\\left(\\varphi_{1} \\right)}\\right)^{2} \\sin{\\left(\\frac{\\theta}{2} \\right)} \\sin{\\left(\\frac{\\theta}{2} - \\frac{\\varphi_{1}}{2} \\right)}} & 0 & 0\\\\\\frac{\\left(\\cos{\\left(\\theta \\right)} - 2 \\cos{\\left(\\varphi_{1} \\right)} + \\cos{\\left(\\theta - 2 \\varphi_{1} \\right)} - 2 \\cos{\\left(\\theta - \\varphi_{1} \\right)} + 2\\right) \\sin{\\left(\\frac{\\theta}{2} + \\frac{\\varphi_{2}}{2} \\right)} \\sin{\\left(\\frac{\\theta}{2} - \\frac{\\varphi_{1}}{2} + \\frac{\\varphi_{2}}{2} \\right)} + \\left(2 \\cos{\\left(\\varphi_{1} \\right)} - \\cos{\\left(\\theta + \\varphi_{2} \\right)} - \\cos{\\left(\\theta - 2 \\varphi_{1} + \\varphi_{2} \\right)} + 2 \\cos{\\left(\\theta - \\varphi_{1} + \\varphi_{2} \\right)} - 2\\right) \\sin{\\left(\\frac{\\theta}{2} \\right)} \\sin{\\left(\\frac{\\theta}{2} - \\frac{\\varphi_{1}}{2} \\right)}}{2 \\left(1 - \\cos{\\left(\\varphi_{1} \\right)}\\right)^{2} \\sin{\\left(\\frac{\\theta}{2} \\right)} \\sin{\\left(\\frac{\\theta}{2} - \\frac{\\varphi_{1}}{2} \\right)}} & 0 & 0 & 0\\\\0 & 0 & 0 & \\frac{\\left(- \\cos{\\left(\\theta \\right)} \\cos{\\left(\\varphi_{1} \\right)} + \\cos{\\left(\\theta \\right)} + \\cos{\\left(\\varphi_{1} \\right)} - 1\\right) \\sin{\\left(\\frac{\\theta}{2} + \\frac{\\varphi_{2}}{2} \\right)} \\sin{\\left(\\frac{\\theta}{2} - \\frac{\\varphi_{1}}{2} + \\frac{\\varphi_{2}}{2} \\right)} + \\left(\\cos{\\left(\\varphi_{1} \\right)} \\cos{\\left(\\theta + \\varphi_{2} \\right)} - \\cos{\\left(\\varphi_{1} \\right)} - \\cos{\\left(\\theta + \\varphi_{2} \\right)} + 1\\right) \\sin{\\left(\\frac{\\theta}{2} \\right)} \\sin{\\left(\\frac{\\theta}{2} - \\frac{\\varphi_{1}}{2} \\right)}}{\\left(1 - \\cos{\\left(\\varphi_{1} \\right)}\\right)^{2} \\sin{\\left(\\frac{\\theta}{2} \\right)} \\sin{\\left(\\frac{\\theta}{2} - \\frac{\\varphi_{1}}{2} \\right)}}\\\\0 & 0 & \\frac{\\left(\\cos{\\left(\\theta \\right)} \\cos{\\left(\\varphi_{1} \\right)} - \\cos{\\left(\\theta \\right)} - \\cos{\\left(\\varphi_{1} \\right)} + 1\\right) \\sin{\\left(\\frac{\\theta}{2} + \\frac{\\varphi_{2}}{2} \\right)} \\sin{\\left(\\frac{\\theta}{2} - \\frac{\\varphi_{1}}{2} + \\frac{\\varphi_{2}}{2} \\right)} + \\left(- \\cos{\\left(\\varphi_{1} \\right)} \\cos{\\left(\\theta + \\varphi_{2} \\right)} + \\cos{\\left(\\varphi_{1} \\right)} + \\cos{\\left(\\theta + \\varphi_{2} \\right)} - 1\\right) \\sin{\\left(\\frac{\\theta}{2} \\right)} \\sin{\\left(\\frac{\\theta}{2} - \\frac{\\varphi_{1}}{2} \\right)}}{\\left(1 - \\cos{\\left(\\varphi_{1} \\right)}\\right)^{2} \\sin{\\left(\\frac{\\theta}{2} \\right)} \\sin{\\left(\\frac{\\theta}{2} - \\frac{\\varphi_{1}}{2} \\right)}} & 0\\end{matrix}\\right]$"
      ],
      "text/plain": [
       "Matrix([\n",
       "[                                                                                                                                                                                                                                                                                                                                                                                           0, ((-cos(theta) + 2*cos(varphi_1) - cos(theta - 2*varphi_1) + 2*cos(theta - varphi_1) - 2)*sin(theta/2 + varphi_2/2)*sin(theta/2 - varphi_1/2 + varphi_2/2) + (-2*cos(varphi_1) + cos(theta + varphi_2) + cos(theta - 2*varphi_1 + varphi_2) - 2*cos(theta - varphi_1 + varphi_2) + 2)*sin(theta/2)*sin(theta/2 - varphi_1/2))/(2*(1 - cos(varphi_1))**2*sin(theta/2)*sin(theta/2 - varphi_1/2)),                                                                                                                                                                                                                                                                                                                          0,                                                                                                                                                                                                                                                                                                                          0],\n",
       "[((cos(theta) - 2*cos(varphi_1) + cos(theta - 2*varphi_1) - 2*cos(theta - varphi_1) + 2)*sin(theta/2 + varphi_2/2)*sin(theta/2 - varphi_1/2 + varphi_2/2) + (2*cos(varphi_1) - cos(theta + varphi_2) - cos(theta - 2*varphi_1 + varphi_2) + 2*cos(theta - varphi_1 + varphi_2) - 2)*sin(theta/2)*sin(theta/2 - varphi_1/2))/(2*(1 - cos(varphi_1))**2*sin(theta/2)*sin(theta/2 - varphi_1/2)),                                                                                                                                                                                                                                                                                                                                                                                              0,                                                                                                                                                                                                                                                                                                                          0,                                                                                                                                                                                                                                                                                                                          0],\n",
       "[                                                                                                                                                                                                                                                                                                                                                                                           0,                                                                                                                                                                                                                                                                                                                                                                                              0,                                                                                                                                                                                                                                                                                                                          0, ((-cos(theta)*cos(varphi_1) + cos(theta) + cos(varphi_1) - 1)*sin(theta/2 + varphi_2/2)*sin(theta/2 - varphi_1/2 + varphi_2/2) + (cos(varphi_1)*cos(theta + varphi_2) - cos(varphi_1) - cos(theta + varphi_2) + 1)*sin(theta/2)*sin(theta/2 - varphi_1/2))/((1 - cos(varphi_1))**2*sin(theta/2)*sin(theta/2 - varphi_1/2))],\n",
       "[                                                                                                                                                                                                                                                                                                                                                                                           0,                                                                                                                                                                                                                                                                                                                                                                                              0, ((cos(theta)*cos(varphi_1) - cos(theta) - cos(varphi_1) + 1)*sin(theta/2 + varphi_2/2)*sin(theta/2 - varphi_1/2 + varphi_2/2) + (-cos(varphi_1)*cos(theta + varphi_2) + cos(varphi_1) + cos(theta + varphi_2) - 1)*sin(theta/2)*sin(theta/2 - varphi_1/2))/((1 - cos(varphi_1))**2*sin(theta/2)*sin(theta/2 - varphi_1/2)),                                                                                                                                                                                                                                                                                                                          0]])"
      ]
     },
     "execution_count": 57,
     "metadata": {},
     "output_type": "execute_result"
    }
   ],
   "source": [
    "K"
   ]
  },
  {
   "cell_type": "code",
   "execution_count": null,
   "id": "8be9c139-55e5-49c1-973e-a863893e65f2",
   "metadata": {},
   "outputs": [],
   "source": []
  }
 ],
 "metadata": {
  "kernelspec": {
   "display_name": "finetuning",
   "language": "python",
   "name": "finetuning"
  },
  "language_info": {
   "codemirror_mode": {
    "name": "ipython",
    "version": 3
   },
   "file_extension": ".py",
   "mimetype": "text/x-python",
   "name": "python",
   "nbconvert_exporter": "python",
   "pygments_lexer": "ipython3",
   "version": "3.12.4"
  }
 },
 "nbformat": 4,
 "nbformat_minor": 5
}
